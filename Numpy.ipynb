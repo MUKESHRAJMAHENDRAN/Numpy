{
 "cells": [
  {
   "cell_type": "markdown",
   "id": "01b13060",
   "metadata": {},
   "source": [
    "# Dot product using numpy array for matrices."
   ]
  },
  {
   "cell_type": "code",
   "execution_count": 17,
   "id": "0588139b",
   "metadata": {},
   "outputs": [],
   "source": [
    "kanto = [73, 67, 43]\n",
    "johto = [91, 88, 64]\n",
    "hoenn = [87, 134, 58]\n",
    "sinnoh =[102, 43, 37]\n",
    "unova = [69, 96, 70]"
   ]
  },
  {
   "cell_type": "code",
   "execution_count": 19,
   "id": "1bea3dea",
   "metadata": {},
   "outputs": [],
   "source": [
    "weight= [0.3, 0.2, 0.5]"
   ]
  },
  {
   "cell_type": "code",
   "execution_count": 20,
   "id": "1badde22",
   "metadata": {},
   "outputs": [],
   "source": [
    "import numpy as np"
   ]
  },
  {
   "cell_type": "code",
   "execution_count": 36,
   "id": "8c5c119d",
   "metadata": {},
   "outputs": [],
   "source": [
    "region=np.array([[73,67,43],\n",
    "                 [73, 67, 43],\n",
    "                 [91, 88, 64],\n",
    "                 [87, 134, 58],\n",
    "                 [102, 43, 37],\n",
    "                 [69, 96, 70]])"
   ]
  },
  {
   "cell_type": "code",
   "execution_count": 37,
   "id": "181af775",
   "metadata": {},
   "outputs": [
    {
     "name": "stdout",
     "output_type": "stream",
     "text": [
      "[[ 73  67  43]\n",
      " [ 73  67  43]\n",
      " [ 91  88  64]\n",
      " [ 87 134  58]\n",
      " [102  43  37]\n",
      " [ 69  96  70]]\n"
     ]
    }
   ],
   "source": [
    "print(region)"
   ]
  },
  {
   "cell_type": "code",
   "execution_count": 38,
   "id": "c041a2fb",
   "metadata": {},
   "outputs": [],
   "source": [
    "weight=np.array([0.3,0.2,0.5])"
   ]
  },
  {
   "cell_type": "code",
   "execution_count": 39,
   "id": "28ba48d0",
   "metadata": {},
   "outputs": [
    {
     "name": "stdout",
     "output_type": "stream",
     "text": [
      "[0.3 0.2 0.5]\n"
     ]
    }
   ],
   "source": [
    "print(weight)"
   ]
  },
  {
   "cell_type": "markdown",
   "id": "0b0b9b9b",
   "metadata": {},
   "source": [
    "## Multiplication operation in matrices"
   ]
  },
  {
   "cell_type": "code",
   "execution_count": 40,
   "id": "465fed06",
   "metadata": {},
   "outputs": [],
   "source": [
    "prediction=np.dot(region,weight)"
   ]
  },
  {
   "cell_type": "code",
   "execution_count": 42,
   "id": "14ff9f9b",
   "metadata": {},
   "outputs": [
    {
     "name": "stdout",
     "output_type": "stream",
     "text": [
      "[56.8 56.8 76.9 81.9 57.7 74.9]\n"
     ]
    }
   ],
   "source": [
    "print(prediction)"
   ]
  },
  {
   "cell_type": "code",
   "execution_count": 43,
   "id": "c8c0d77e",
   "metadata": {},
   "outputs": [
    {
     "data": {
      "text/plain": [
       "array([[21.9, 13.4, 21.5],\n",
       "       [21.9, 13.4, 21.5],\n",
       "       [27.3, 17.6, 32. ],\n",
       "       [26.1, 26.8, 29. ],\n",
       "       [30.6,  8.6, 18.5],\n",
       "       [20.7, 19.2, 35. ]])"
      ]
     },
     "execution_count": 43,
     "metadata": {},
     "output_type": "execute_result"
    }
   ],
   "source": [
    "region*weight"
   ]
  },
  {
   "cell_type": "code",
   "execution_count": 47,
   "id": "30dd00aa",
   "metadata": {},
   "outputs": [
    {
     "data": {
      "text/plain": [
       "56.8"
      ]
     },
     "execution_count": 47,
     "metadata": {},
     "output_type": "execute_result"
    }
   ],
   "source": [
    "(kanto*weight).sum()"
   ]
  },
  {
   "cell_type": "code",
   "execution_count": 49,
   "id": "fee7d836",
   "metadata": {},
   "outputs": [
    {
     "data": {
      "text/plain": [
       "array([56.8, 56.8, 76.9, 81.9, 57.7, 74.9])"
      ]
     },
     "execution_count": 49,
     "metadata": {},
     "output_type": "execute_result"
    }
   ],
   "source": [
    "region @ weight"
   ]
  },
  {
   "cell_type": "code",
   "execution_count": 50,
   "id": "cd6ef838",
   "metadata": {},
   "outputs": [],
   "source": [
    "a=np.array([1,2,3,4])\n",
    "b=np.array([5,6,7,8])"
   ]
  },
  {
   "cell_type": "code",
   "execution_count": 51,
   "id": "abf3c694",
   "metadata": {},
   "outputs": [
    {
     "data": {
      "text/plain": [
       "70"
      ]
     },
     "execution_count": 51,
     "metadata": {},
     "output_type": "execute_result"
    }
   ],
   "source": [
    "a @ b"
   ]
  },
  {
   "cell_type": "code",
   "execution_count": 52,
   "id": "00bc60f4",
   "metadata": {},
   "outputs": [
    {
     "data": {
      "text/plain": [
       "26"
      ]
     },
     "execution_count": 52,
     "metadata": {},
     "output_type": "execute_result"
    }
   ],
   "source": [
    "b.sum()"
   ]
  },
  {
   "cell_type": "code",
   "execution_count": 53,
   "id": "05a86ac2",
   "metadata": {},
   "outputs": [
    {
     "data": {
      "text/plain": [
       "10"
      ]
     },
     "execution_count": 53,
     "metadata": {},
     "output_type": "execute_result"
    }
   ],
   "source": [
    "a.sum()"
   ]
  },
  {
   "cell_type": "markdown",
   "id": "5d70b0e2",
   "metadata": {},
   "source": [
    "NOTE: \n",
    "1. np.dot() atrixand @ perform the same operation called Matrix multiplication.\n",
    "2. sum() function return sum of numbers in a array."
   ]
  },
  {
   "cell_type": "markdown",
   "id": "fe9277f1",
   "metadata": {},
   "source": [
    "## Creating 2D and 3D Matrices"
   ]
  },
  {
   "cell_type": "code",
   "execution_count": 56,
   "id": "9d733207",
   "metadata": {},
   "outputs": [],
   "source": [
    "region=np.array([[73,67,43],\n",
    "                 [73, 67, 43],\n",
    "                 [91, 88, 64],\n",
    "                 [87, 134, 58],\n",
    "                 [102, 43, 37],\n",
    "                 [69, 96, 70]])"
   ]
  },
  {
   "cell_type": "code",
   "execution_count": 57,
   "id": "e549338b",
   "metadata": {},
   "outputs": [
    {
     "data": {
      "text/plain": [
       "(6, 3)"
      ]
     },
     "execution_count": 57,
     "metadata": {},
     "output_type": "execute_result"
    }
   ],
   "source": [
    "region.shape"
   ]
  },
  {
   "cell_type": "code",
   "execution_count": 2,
   "id": "2471fd4f",
   "metadata": {},
   "outputs": [],
   "source": [
    "import numpy as np"
   ]
  },
  {
   "cell_type": "code",
   "execution_count": 8,
   "id": "6e7904fd",
   "metadata": {},
   "outputs": [],
   "source": [
    "arr1=np.array([\n",
    "    [[1,2,3],\n",
    "     [4,5,6]],\n",
    "    [[10,11,12],\n",
    "     [13,14,15]]])"
   ]
  },
  {
   "cell_type": "code",
   "execution_count": 9,
   "id": "7a36d029",
   "metadata": {},
   "outputs": [
    {
     "data": {
      "text/plain": [
       "(2, 2, 3)"
      ]
     },
     "execution_count": 9,
     "metadata": {},
     "output_type": "execute_result"
    }
   ],
   "source": [
    "arr1.shape"
   ]
  },
  {
   "cell_type": "markdown",
   "id": "de631666",
   "metadata": {},
   "source": [
    "We can't create the differert set for 3D if we create it error occurs"
   ]
  },
  {
   "cell_type": "code",
   "execution_count": 10,
   "id": "f509ccae",
   "metadata": {},
   "outputs": [
    {
     "data": {
      "text/plain": [
       "numpy.ndarray"
      ]
     },
     "execution_count": 10,
     "metadata": {},
     "output_type": "execute_result"
    }
   ],
   "source": [
    "type(arr1)"
   ]
  },
  {
   "cell_type": "code",
   "execution_count": 11,
   "id": "056e18bd",
   "metadata": {},
   "outputs": [
    {
     "data": {
      "text/plain": [
       "dtype('int64')"
      ]
     },
     "execution_count": 11,
     "metadata": {},
     "output_type": "execute_result"
    }
   ],
   "source": [
    "arr1.dtype"
   ]
  },
  {
   "cell_type": "markdown",
   "id": "b6a86167",
   "metadata": {},
   "source": [
    "## Working with CSV(Coma -Seperated Values) files"
   ]
  },
  {
   "cell_type": "markdown",
   "id": "3f38f82b",
   "metadata": {},
   "source": [
    "we are processing the data of 10000 data of Temperature, Rainfall ,Humidity"
   ]
  },
  {
   "cell_type": "code",
   "execution_count": 23,
   "id": "a81d684e",
   "metadata": {},
   "outputs": [
    {
     "data": {
      "text/plain": [
       "('climate.txt', <http.client.HTTPMessage at 0x7fdf786325e0>)"
      ]
     },
     "execution_count": 23,
     "metadata": {},
     "output_type": "execute_result"
    }
   ],
   "source": [
    "import urllib.request\n",
    "urllib.request.urlretrieve(\n",
    "'https://hub.jovian.ml/wp-content/uploads/2020/08/climate.csv',\n",
    "'climate.txt')"
   ]
  },
  {
   "cell_type": "code",
   "execution_count": 25,
   "id": "5f95e51a",
   "metadata": {},
   "outputs": [],
   "source": [
    "climate_data=np.genfromtxt('climate.txt', delimiter=',',skip_header=1)"
   ]
  },
  {
   "cell_type": "code",
   "execution_count": 27,
   "id": "71674083",
   "metadata": {},
   "outputs": [
    {
     "data": {
      "text/plain": [
       "array([[25., 76., 99.],\n",
       "       [39., 65., 70.],\n",
       "       [59., 45., 77.],\n",
       "       ...,\n",
       "       [99., 62., 58.],\n",
       "       [70., 71., 91.],\n",
       "       [92., 39., 76.]])"
      ]
     },
     "execution_count": 27,
     "metadata": {},
     "output_type": "execute_result"
    }
   ],
   "source": [
    "climate_data"
   ]
  },
  {
   "cell_type": "code",
   "execution_count": 28,
   "id": "b11c3307",
   "metadata": {},
   "outputs": [
    {
     "data": {
      "text/plain": [
       "(10000, 3)"
      ]
     },
     "execution_count": 28,
     "metadata": {},
     "output_type": "execute_result"
    }
   ],
   "source": [
    "climate_data.shape"
   ]
  },
  {
   "cell_type": "code",
   "execution_count": 30,
   "id": "3a8d379b",
   "metadata": {},
   "outputs": [],
   "source": [
    "weight=np.array([0.3,0.2,0.5])"
   ]
  },
  {
   "cell_type": "code",
   "execution_count": 31,
   "id": "e54846dd",
   "metadata": {},
   "outputs": [
    {
     "data": {
      "text/plain": [
       "array([0.3, 0.2, 0.5])"
      ]
     },
     "execution_count": 31,
     "metadata": {},
     "output_type": "execute_result"
    }
   ],
   "source": [
    "weight"
   ]
  },
  {
   "cell_type": "code",
   "execution_count": 33,
   "id": "108be101",
   "metadata": {},
   "outputs": [],
   "source": [
    "yeild=climate_data @ weight"
   ]
  },
  {
   "cell_type": "code",
   "execution_count": 34,
   "id": "eedcbcc8",
   "metadata": {},
   "outputs": [
    {
     "data": {
      "text/plain": [
       "array([72.2, 59.7, 65.2, ..., 71.1, 80.7, 73.4])"
      ]
     },
     "execution_count": 34,
     "metadata": {},
     "output_type": "execute_result"
    }
   ],
   "source": [
    "yeild"
   ]
  },
  {
   "cell_type": "code",
   "execution_count": 36,
   "id": "b57451af",
   "metadata": {},
   "outputs": [
    {
     "data": {
      "text/plain": [
       "(10000,)"
      ]
     },
     "execution_count": 36,
     "metadata": {},
     "output_type": "execute_result"
    }
   ],
   "source": [
    "yeild.shape"
   ]
  },
  {
   "cell_type": "markdown",
   "id": "72bf0598",
   "metadata": {},
   "source": [
    "we are just adding the yeild result in last colum in the matrix by using concatenate"
   ]
  },
  {
   "cell_type": "markdown",
   "id": "5ee5c753",
   "metadata": {},
   "source": [
    "axis=1 add the column value\n",
    "reshape to (1000,1) because concatenate does not shape of yeild(1000,)"
   ]
  },
  {
   "cell_type": "code",
   "execution_count": 50,
   "id": "38fa50fd",
   "metadata": {},
   "outputs": [],
   "source": [
    "Climate_results=np.concatenate((climate_data,yeild.reshape(10000,1)),axis=1)"
   ]
  },
  {
   "cell_type": "code",
   "execution_count": 51,
   "id": "6463f51f",
   "metadata": {},
   "outputs": [
    {
     "data": {
      "text/plain": [
       "array([[25. , 76. , 99. , 72.2],\n",
       "       [39. , 65. , 70. , 59.7],\n",
       "       [59. , 45. , 77. , 65.2],\n",
       "       ...,\n",
       "       [99. , 62. , 58. , 71.1],\n",
       "       [70. , 71. , 91. , 80.7],\n",
       "       [92. , 39. , 76. , 73.4]])"
      ]
     },
     "execution_count": 51,
     "metadata": {},
     "output_type": "execute_result"
    }
   ],
   "source": [
    "Climate_results"
   ]
  },
  {
   "cell_type": "code",
   "execution_count": 67,
   "id": "e2d0e20b",
   "metadata": {},
   "outputs": [],
   "source": [
    "np.savetxt('climate result.txt',\n",
    "          Climate_results,\n",
    "          fmt='%.2f',\n",
    "          delimiter=',',\n",
    "          header='temperature,rainfall,humidity,yeild of crop',\n",
    "          comments='')"
   ]
  },
  {
   "cell_type": "markdown",
   "id": "c8c928c7",
   "metadata": {},
   "source": [
    "We can just give space in file by using delimiter but originaly of csv file not i am goingto change"
   ]
  },
  {
   "cell_type": "markdown",
   "id": "e74e6d84",
   "metadata": {},
   "source": [
    "## Arithmetic operation and comparision in numpy(Matrices)"
   ]
  },
  {
   "cell_type": "code",
   "execution_count": 2,
   "id": "947453e6",
   "metadata": {},
   "outputs": [],
   "source": [
    "import numpy as np"
   ]
  },
  {
   "cell_type": "code",
   "execution_count": 4,
   "id": "b1287b5f",
   "metadata": {},
   "outputs": [],
   "source": [
    "arr1=np.array([[1,2,3,4],\n",
    "              [5,6,7,8],\n",
    "              [9,10,11,12]])"
   ]
  },
  {
   "cell_type": "code",
   "execution_count": 5,
   "id": "7cffe539",
   "metadata": {},
   "outputs": [],
   "source": [
    "arr2=np.array([\n",
    "    [13,14,15,16],\n",
    "    [17,18,19,20],\n",
    "    [21,22,23,24]])"
   ]
  },
  {
   "cell_type": "code",
   "execution_count": 6,
   "id": "2be65f40",
   "metadata": {},
   "outputs": [
    {
     "data": {
      "text/plain": [
       "array([[ 4,  5,  6,  7],\n",
       "       [ 8,  9, 10, 11],\n",
       "       [12, 13, 14, 15]])"
      ]
     },
     "execution_count": 6,
     "metadata": {},
     "output_type": "execute_result"
    }
   ],
   "source": [
    "arr1+3"
   ]
  },
  {
   "cell_type": "code",
   "execution_count": 7,
   "id": "de4ed326",
   "metadata": {},
   "outputs": [
    {
     "data": {
      "text/plain": [
       "array([[-2, -1,  0,  1],\n",
       "       [ 2,  3,  4,  5],\n",
       "       [ 6,  7,  8,  9]])"
      ]
     },
     "execution_count": 7,
     "metadata": {},
     "output_type": "execute_result"
    }
   ],
   "source": [
    "arr1-3"
   ]
  },
  {
   "cell_type": "code",
   "execution_count": 8,
   "id": "9bfcb0c1",
   "metadata": {},
   "outputs": [
    {
     "data": {
      "text/plain": [
       "array([[ 1,  2,  3,  4],\n",
       "       [ 5,  6,  7,  8],\n",
       "       [ 9, 10, 11, 12]])"
      ]
     },
     "execution_count": 8,
     "metadata": {},
     "output_type": "execute_result"
    }
   ],
   "source": [
    "arr1"
   ]
  },
  {
   "cell_type": "code",
   "execution_count": 9,
   "id": "7e3fed48",
   "metadata": {},
   "outputs": [
    {
     "data": {
      "text/plain": [
       "array([[ 3,  6,  9, 12],\n",
       "       [15, 18, 21, 24],\n",
       "       [27, 30, 33, 36]])"
      ]
     },
     "execution_count": 9,
     "metadata": {},
     "output_type": "execute_result"
    }
   ],
   "source": [
    "arr1*3"
   ]
  },
  {
   "cell_type": "code",
   "execution_count": 10,
   "id": "22487dc9",
   "metadata": {},
   "outputs": [
    {
     "data": {
      "text/plain": [
       "array([[14, 16, 18, 20],\n",
       "       [22, 24, 26, 28],\n",
       "       [30, 32, 34, 36]])"
      ]
     },
     "execution_count": 10,
     "metadata": {},
     "output_type": "execute_result"
    }
   ],
   "source": [
    "arr1+arr2"
   ]
  },
  {
   "cell_type": "code",
   "execution_count": 11,
   "id": "63afcab5",
   "metadata": {},
   "outputs": [
    {
     "data": {
      "text/plain": [
       "array([[-12, -12, -12, -12],\n",
       "       [-12, -12, -12, -12],\n",
       "       [-12, -12, -12, -12]])"
      ]
     },
     "execution_count": 11,
     "metadata": {},
     "output_type": "execute_result"
    }
   ],
   "source": [
    "arr1-arr2"
   ]
  },
  {
   "cell_type": "code",
   "execution_count": 12,
   "id": "4cc22063",
   "metadata": {},
   "outputs": [
    {
     "data": {
      "text/plain": [
       "array([[ 1,  2,  3,  4],\n",
       "       [ 5,  6,  7,  8],\n",
       "       [ 9, 10, 11, 12]])"
      ]
     },
     "execution_count": 12,
     "metadata": {},
     "output_type": "execute_result"
    }
   ],
   "source": [
    "arr1"
   ]
  },
  {
   "cell_type": "code",
   "execution_count": 13,
   "id": "b0fcbe51",
   "metadata": {},
   "outputs": [
    {
     "data": {
      "text/plain": [
       "array([[13, 14, 15, 16],\n",
       "       [17, 18, 19, 20],\n",
       "       [21, 22, 23, 24]])"
      ]
     },
     "execution_count": 13,
     "metadata": {},
     "output_type": "execute_result"
    }
   ],
   "source": [
    "arr2"
   ]
  },
  {
   "cell_type": "code",
   "execution_count": 14,
   "id": "707b0d9c",
   "metadata": {},
   "outputs": [
    {
     "data": {
      "text/plain": [
       "array([[1, 0, 1, 0],\n",
       "       [1, 0, 1, 0],\n",
       "       [1, 0, 1, 0]])"
      ]
     },
     "execution_count": 14,
     "metadata": {},
     "output_type": "execute_result"
    }
   ],
   "source": [
    "arr1%2"
   ]
  },
  {
   "cell_type": "code",
   "execution_count": 16,
   "id": "f929473b",
   "metadata": {},
   "outputs": [
    {
     "data": {
      "text/plain": [
       "array([[3, 4, 0, 1],\n",
       "       [2, 3, 4, 0],\n",
       "       [1, 2, 3, 4]])"
      ]
     },
     "execution_count": 16,
     "metadata": {},
     "output_type": "execute_result"
    }
   ],
   "source": [
    "arr2%5"
   ]
  },
  {
   "cell_type": "code",
   "execution_count": 17,
   "id": "b5262767",
   "metadata": {},
   "outputs": [
    {
     "data": {
      "text/plain": [
       "array([[False, False, False, False],\n",
       "       [False, False, False, False],\n",
       "       [False, False, False, False]])"
      ]
     },
     "execution_count": 17,
     "metadata": {},
     "output_type": "execute_result"
    }
   ],
   "source": [
    "arr1==arr2"
   ]
  },
  {
   "cell_type": "code",
   "execution_count": 18,
   "id": "68769c64",
   "metadata": {},
   "outputs": [
    {
     "data": {
      "text/plain": [
       "array([[ True,  True,  True,  True],\n",
       "       [ True,  True,  True,  True],\n",
       "       [ True,  True,  True,  True]])"
      ]
     },
     "execution_count": 18,
     "metadata": {},
     "output_type": "execute_result"
    }
   ],
   "source": [
    "arr1!=arr2"
   ]
  },
  {
   "cell_type": "code",
   "execution_count": 19,
   "id": "94454ee7",
   "metadata": {},
   "outputs": [
    {
     "data": {
      "text/plain": [
       "array([[ True,  True,  True,  True],\n",
       "       [ True,  True,  True,  True],\n",
       "       [ True,  True,  True,  True]])"
      ]
     },
     "execution_count": 19,
     "metadata": {},
     "output_type": "execute_result"
    }
   ],
   "source": [
    "arr1<=arr2"
   ]
  },
  {
   "cell_type": "code",
   "execution_count": 20,
   "id": "15657965",
   "metadata": {},
   "outputs": [
    {
     "data": {
      "text/plain": [
       "array([[ 1,  2,  3,  4],\n",
       "       [ 5,  6,  7,  8],\n",
       "       [ 9, 10, 11, 12]])"
      ]
     },
     "execution_count": 20,
     "metadata": {},
     "output_type": "execute_result"
    }
   ],
   "source": [
    "arr1"
   ]
  },
  {
   "cell_type": "code",
   "execution_count": 21,
   "id": "3a24f0a3",
   "metadata": {},
   "outputs": [
    {
     "data": {
      "text/plain": [
       "78"
      ]
     },
     "execution_count": 21,
     "metadata": {},
     "output_type": "execute_result"
    }
   ],
   "source": [
    "arr1.sum()"
   ]
  },
  {
   "cell_type": "markdown",
   "id": "a5b41985",
   "metadata": {},
   "source": [
    "# Broadcasting"
   ]
  },
  {
   "cell_type": "code",
   "execution_count": 22,
   "id": "2824a0cf",
   "metadata": {},
   "outputs": [
    {
     "data": {
      "text/plain": [
       "array([[ 1,  2,  3,  4],\n",
       "       [ 5,  6,  7,  8],\n",
       "       [ 9, 10, 11, 12]])"
      ]
     },
     "execution_count": 22,
     "metadata": {},
     "output_type": "execute_result"
    }
   ],
   "source": [
    "arr1"
   ]
  },
  {
   "cell_type": "code",
   "execution_count": 29,
   "id": "26658c4e",
   "metadata": {},
   "outputs": [],
   "source": [
    "arr3=np.array([[1,2,3,4],\n",
    "               [5,6,7,8]])"
   ]
  },
  {
   "cell_type": "code",
   "execution_count": 30,
   "id": "766253d7",
   "metadata": {},
   "outputs": [
    {
     "data": {
      "text/plain": [
       "array([[1, 2, 3, 4],\n",
       "       [5, 6, 7, 8]])"
      ]
     },
     "execution_count": 30,
     "metadata": {},
     "output_type": "execute_result"
    }
   ],
   "source": [
    "arr3"
   ]
  },
  {
   "cell_type": "code",
   "execution_count": 26,
   "id": "719d616a",
   "metadata": {},
   "outputs": [
    {
     "ename": "ValueError",
     "evalue": "operands could not be broadcast together with shapes (3,4) (2,4) ",
     "output_type": "error",
     "traceback": [
      "\u001b[0;31m---------------------------------------------------------------------------\u001b[0m",
      "\u001b[0;31mValueError\u001b[0m                                Traceback (most recent call last)",
      "\u001b[0;32m/tmp/ipykernel_2645/3976604992.py\u001b[0m in \u001b[0;36m<module>\u001b[0;34m\u001b[0m\n\u001b[0;32m----> 1\u001b[0;31m \u001b[0marr1\u001b[0m\u001b[0;34m+\u001b[0m\u001b[0marr3\u001b[0m\u001b[0;34m\u001b[0m\u001b[0;34m\u001b[0m\u001b[0m\n\u001b[0m",
      "\u001b[0;31mValueError\u001b[0m: operands could not be broadcast together with shapes (3,4) (2,4) "
     ]
    }
   ],
   "source": [
    "arr1+arr3"
   ]
  },
  {
   "cell_type": "markdown",
   "id": "f2fa5cfa",
   "metadata": {},
   "source": [
    "we can usually broadcast(which replicate the copy without making actual copy)"
   ]
  },
  {
   "cell_type": "code",
   "execution_count": 37,
   "id": "930aa1f2",
   "metadata": {},
   "outputs": [],
   "source": [
    "arr4=np.array([1,2,3,4])"
   ]
  },
  {
   "cell_type": "code",
   "execution_count": 44,
   "id": "04402dbd",
   "metadata": {},
   "outputs": [
    {
     "data": {
      "text/plain": [
       "array([[ 2,  4,  6,  8],\n",
       "       [ 6,  8, 10, 12]])"
      ]
     },
     "execution_count": 44,
     "metadata": {},
     "output_type": "execute_result"
    }
   ],
   "source": [
    "arr3+arr4"
   ]
  },
  {
   "cell_type": "code",
   "execution_count": 45,
   "id": "e0d3b207",
   "metadata": {},
   "outputs": [
    {
     "data": {
      "text/plain": [
       "array([[1, 2, 3, 4],\n",
       "       [5, 6, 7, 8]])"
      ]
     },
     "execution_count": 45,
     "metadata": {},
     "output_type": "execute_result"
    }
   ],
   "source": [
    "arr3"
   ]
  },
  {
   "cell_type": "code",
   "execution_count": 42,
   "id": "1975995d",
   "metadata": {},
   "outputs": [],
   "source": [
    "arr5=([1])"
   ]
  },
  {
   "cell_type": "code",
   "execution_count": 43,
   "id": "aef67d00",
   "metadata": {},
   "outputs": [
    {
     "data": {
      "text/plain": [
       "array([[2, 3, 4, 5],\n",
       "       [6, 7, 8, 9]])"
      ]
     },
     "execution_count": 43,
     "metadata": {},
     "output_type": "execute_result"
    }
   ],
   "source": [
    "arr3+arr5"
   ]
  },
  {
   "cell_type": "markdown",
   "id": "c2dc9b64",
   "metadata": {},
   "source": [
    "# Indexing and slicing"
   ]
  },
  {
   "cell_type": "code",
   "execution_count": 48,
   "id": "1de20c59",
   "metadata": {},
   "outputs": [],
   "source": [
    "arr3d=np.array([\n",
    "    [[1,2,3],\n",
    "    [4,5,6]],\n",
    "    [[7,8,9],\n",
    "    [10,11,12]]\n",
    "])"
   ]
  },
  {
   "cell_type": "code",
   "execution_count": 49,
   "id": "3f9023c6",
   "metadata": {},
   "outputs": [
    {
     "data": {
      "text/plain": [
       "(2, 2, 3)"
      ]
     },
     "execution_count": 49,
     "metadata": {},
     "output_type": "execute_result"
    }
   ],
   "source": [
    "arr3d.shape"
   ]
  },
  {
   "cell_type": "code",
   "execution_count": 54,
   "id": "d0f48ce6",
   "metadata": {},
   "outputs": [
    {
     "data": {
      "text/plain": [
       "array([[ 7,  8,  9],\n",
       "       [10, 11, 12]])"
      ]
     },
     "execution_count": 54,
     "metadata": {},
     "output_type": "execute_result"
    }
   ],
   "source": [
    "arr3d[1]"
   ]
  },
  {
   "cell_type": "code",
   "execution_count": 55,
   "id": "a20d871f",
   "metadata": {},
   "outputs": [
    {
     "data": {
      "text/plain": [
       "array([[[ 1,  2,  3],\n",
       "        [ 4,  5,  6]],\n",
       "\n",
       "       [[ 7,  8,  9],\n",
       "        [10, 11, 12]]])"
      ]
     },
     "execution_count": 55,
     "metadata": {},
     "output_type": "execute_result"
    }
   ],
   "source": [
    "arr3d"
   ]
  },
  {
   "cell_type": "code",
   "execution_count": 52,
   "id": "cbe703fc",
   "metadata": {},
   "outputs": [
    {
     "data": {
      "text/plain": [
       "array([[1, 2, 3],\n",
       "       [4, 5, 6]])"
      ]
     },
     "execution_count": 52,
     "metadata": {},
     "output_type": "execute_result"
    }
   ],
   "source": [
    "arr3d[0]"
   ]
  },
  {
   "cell_type": "code",
   "execution_count": 53,
   "id": "5dea00e4",
   "metadata": {},
   "outputs": [
    {
     "data": {
      "text/plain": [
       "array([4, 5, 6])"
      ]
     },
     "execution_count": 53,
     "metadata": {},
     "output_type": "execute_result"
    }
   ],
   "source": [
    "arr3d[0,1]"
   ]
  },
  {
   "cell_type": "code",
   "execution_count": 56,
   "id": "0d3ff640",
   "metadata": {},
   "outputs": [
    {
     "data": {
      "text/plain": [
       "6"
      ]
     },
     "execution_count": 56,
     "metadata": {},
     "output_type": "execute_result"
    }
   ],
   "source": [
    "arr3d[0,1,2]"
   ]
  },
  {
   "cell_type": "code",
   "execution_count": 57,
   "id": "5602f707",
   "metadata": {},
   "outputs": [
    {
     "data": {
      "text/plain": [
       "array([[[ 7,  8,  9],\n",
       "        [10, 11, 12]]])"
      ]
     },
     "execution_count": 57,
     "metadata": {},
     "output_type": "execute_result"
    }
   ],
   "source": [
    "arr3d[1:]"
   ]
  },
  {
   "cell_type": "code",
   "execution_count": 58,
   "id": "e5151323",
   "metadata": {},
   "outputs": [
    {
     "data": {
      "text/plain": [
       "array([], shape=(0, 2, 3), dtype=int64)"
      ]
     },
     "execution_count": 58,
     "metadata": {},
     "output_type": "execute_result"
    }
   ],
   "source": [
    "arr3d[:0]"
   ]
  },
  {
   "cell_type": "code",
   "execution_count": 59,
   "id": "ad532ee1",
   "metadata": {},
   "outputs": [
    {
     "data": {
      "text/plain": [
       "array([[[1, 2, 3],\n",
       "        [4, 5, 6]]])"
      ]
     },
     "execution_count": 59,
     "metadata": {},
     "output_type": "execute_result"
    }
   ],
   "source": [
    "arr3d[:1]"
   ]
  },
  {
   "cell_type": "code",
   "execution_count": 61,
   "id": "4129bb4b",
   "metadata": {},
   "outputs": [
    {
     "data": {
      "text/plain": [
       "array([[1, 2, 3]])"
      ]
     },
     "execution_count": 61,
     "metadata": {},
     "output_type": "execute_result"
    }
   ],
   "source": [
    "arr3d[:1,0]"
   ]
  },
  {
   "cell_type": "markdown",
   "id": "06920990",
   "metadata": {},
   "source": [
    "Some other mode of creating numpy array"
   ]
  },
  {
   "cell_type": "code",
   "execution_count": 64,
   "id": "1a5b3380",
   "metadata": {},
   "outputs": [
    {
     "data": {
      "text/plain": [
       "array([[0., 0., 0., 0., 0.],\n",
       "       [0., 0., 0., 0., 0.],\n",
       "       [0., 0., 0., 0., 0.],\n",
       "       [0., 0., 0., 0., 0.]])"
      ]
     },
     "execution_count": 64,
     "metadata": {},
     "output_type": "execute_result"
    }
   ],
   "source": [
    "np.zeros((4,5))"
   ]
  },
  {
   "cell_type": "code",
   "execution_count": 65,
   "id": "e53a7477",
   "metadata": {},
   "outputs": [
    {
     "data": {
      "text/plain": [
       "array([[1., 1., 1., 1., 1.],\n",
       "       [1., 1., 1., 1., 1.],\n",
       "       [1., 1., 1., 1., 1.],\n",
       "       [1., 1., 1., 1., 1.]])"
      ]
     },
     "execution_count": 65,
     "metadata": {},
     "output_type": "execute_result"
    }
   ],
   "source": [
    "np.ones((4,5))"
   ]
  },
  {
   "cell_type": "code",
   "execution_count": 66,
   "id": "6586e7d9",
   "metadata": {},
   "outputs": [
    {
     "data": {
      "text/plain": [
       "array([[1., 0., 0., 0.],\n",
       "       [0., 1., 0., 0.],\n",
       "       [0., 0., 1., 0.],\n",
       "       [0., 0., 0., 1.]])"
      ]
     },
     "execution_count": 66,
     "metadata": {},
     "output_type": "execute_result"
    }
   ],
   "source": [
    "np.eye(4)"
   ]
  },
  {
   "cell_type": "code",
   "execution_count": 67,
   "id": "019fca16",
   "metadata": {},
   "outputs": [
    {
     "data": {
      "text/plain": [
       "array([[1., 0., 0.],\n",
       "       [0., 1., 0.],\n",
       "       [0., 0., 1.],\n",
       "       [0., 0., 0.]])"
      ]
     },
     "execution_count": 67,
     "metadata": {},
     "output_type": "execute_result"
    }
   ],
   "source": [
    "np.eye(4,3)"
   ]
  },
  {
   "cell_type": "code",
   "execution_count": 71,
   "id": "f00990e8",
   "metadata": {},
   "outputs": [
    {
     "data": {
      "text/plain": [
       "array([[0.37779462, 0.74195045, 0.84251382, 0.7834944 ],\n",
       "       [0.69354689, 0.70324342, 0.15127994, 0.60325171],\n",
       "       [0.02296888, 0.43311609, 0.94531797, 0.04418909]])"
      ]
     },
     "execution_count": 71,
     "metadata": {},
     "output_type": "execute_result"
    }
   ],
   "source": [
    "np.random.rand(3,4)"
   ]
  },
  {
   "cell_type": "code",
   "execution_count": 70,
   "id": "86e21a93",
   "metadata": {},
   "outputs": [
    {
     "data": {
      "text/plain": [
       "array([[-0.75744374, -0.8007626 , -0.88673832,  0.07079243, -0.93306271],\n",
       "       [ 0.86293556, -0.59397764, -1.09359026,  0.65722454,  0.07057631],\n",
       "       [-0.77387561, -0.30518784,  1.06619267,  0.16844739, -0.49950174]])"
      ]
     },
     "execution_count": 70,
     "metadata": {},
     "output_type": "execute_result"
    }
   ],
   "source": [
    "np.random.randn(3,5)"
   ]
  },
  {
   "cell_type": "code",
   "execution_count": 72,
   "id": "0c3e6913",
   "metadata": {},
   "outputs": [
    {
     "data": {
      "text/plain": [
       "array([[12, 12, 12, 12],\n",
       "       [12, 12, 12, 12],\n",
       "       [12, 12, 12, 12]])"
      ]
     },
     "execution_count": 72,
     "metadata": {},
     "output_type": "execute_result"
    }
   ],
   "source": [
    "np.full((3,4),12)"
   ]
  },
  {
   "cell_type": "code",
   "execution_count": 75,
   "id": "cee51f74",
   "metadata": {},
   "outputs": [
    {
     "data": {
      "text/plain": [
       "array([ 0,  7, 14, 21, 28, 35, 42, 49, 56, 63, 70, 77, 84, 91, 98])"
      ]
     },
     "execution_count": 75,
     "metadata": {},
     "output_type": "execute_result"
    }
   ],
   "source": [
    "np.arange(0,100,7)"
   ]
  },
  {
   "cell_type": "code",
   "execution_count": 83,
   "id": "63574d61",
   "metadata": {},
   "outputs": [
    {
     "data": {
      "text/plain": [
       "array([3. , 3.5, 4. ])"
      ]
     },
     "execution_count": 83,
     "metadata": {},
     "output_type": "execute_result"
    }
   ],
   "source": [
    "np.linspace(3,4,3)"
   ]
  },
  {
   "cell_type": "markdown",
   "id": "548a69f5",
   "metadata": {},
   "source": [
    "# Numpy function for data science"
   ]
  },
  {
   "cell_type": "markdown",
   "id": "16fa4114",
   "metadata": {},
   "source": [
    "Median is middle value of sorted array or list\n",
    "if even :\n",
    "    median=(n-1)/2\n",
    "else:\n",
    "    aaverge of two middle value "
   ]
  },
  {
   "cell_type": "code",
   "execution_count": null,
   "id": "9fd09278",
   "metadata": {},
   "outputs": [],
   "source": [
    "Median,mean"
   ]
  },
  {
   "cell_type": "code",
   "execution_count": 92,
   "id": "4dc6396e",
   "metadata": {},
   "outputs": [],
   "source": [
    "b=np.full((4,4,4),7)"
   ]
  },
  {
   "cell_type": "code",
   "execution_count": 93,
   "id": "f5c5153d",
   "metadata": {},
   "outputs": [
    {
     "data": {
      "text/plain": [
       "array([[[7, 7, 7, 7],\n",
       "        [7, 7, 7, 7],\n",
       "        [7, 7, 7, 7],\n",
       "        [7, 7, 7, 7]],\n",
       "\n",
       "       [[7, 7, 7, 7],\n",
       "        [7, 7, 7, 7],\n",
       "        [7, 7, 7, 7],\n",
       "        [7, 7, 7, 7]],\n",
       "\n",
       "       [[7, 7, 7, 7],\n",
       "        [7, 7, 7, 7],\n",
       "        [7, 7, 7, 7],\n",
       "        [7, 7, 7, 7]],\n",
       "\n",
       "       [[7, 7, 7, 7],\n",
       "        [7, 7, 7, 7],\n",
       "        [7, 7, 7, 7],\n",
       "        [7, 7, 7, 7]]])"
      ]
     },
     "execution_count": 93,
     "metadata": {},
     "output_type": "execute_result"
    }
   ],
   "source": [
    "b"
   ]
  },
  {
   "cell_type": "code",
   "execution_count": 99,
   "id": "e3d2754a",
   "metadata": {},
   "outputs": [
    {
     "data": {
      "text/plain": [
       "array([[7., 7., 7., 7.],\n",
       "       [7., 7., 7., 7.],\n",
       "       [7., 7., 7., 7.],\n",
       "       [7., 7., 7., 7.]])"
      ]
     },
     "execution_count": 99,
     "metadata": {},
     "output_type": "execute_result"
    }
   ],
   "source": [
    "np.median(b,axis=2)"
   ]
  },
  {
   "cell_type": "code",
   "execution_count": 100,
   "id": "084a7fbe",
   "metadata": {},
   "outputs": [
    {
     "data": {
      "text/plain": [
       "7.0"
      ]
     },
     "execution_count": 100,
     "metadata": {},
     "output_type": "execute_result"
    }
   ],
   "source": [
    "np.median(b)"
   ]
  },
  {
   "cell_type": "code",
   "execution_count": 109,
   "id": "1f11ba00",
   "metadata": {},
   "outputs": [],
   "source": [
    "c=np.eye(4)"
   ]
  },
  {
   "cell_type": "code",
   "execution_count": 117,
   "id": "89a5bd04",
   "metadata": {},
   "outputs": [
    {
     "data": {
      "text/plain": [
       "array([[1., 0., 0., 0.],\n",
       "       [0., 1., 0., 0.],\n",
       "       [0., 0., 1., 0.],\n",
       "       [0., 0., 0., 1.]])"
      ]
     },
     "execution_count": 117,
     "metadata": {},
     "output_type": "execute_result"
    }
   ],
   "source": [
    "c"
   ]
  },
  {
   "cell_type": "code",
   "execution_count": 118,
   "id": "facae1dc",
   "metadata": {},
   "outputs": [
    {
     "data": {
      "text/plain": [
       "0.25"
      ]
     },
     "execution_count": 118,
     "metadata": {},
     "output_type": "execute_result"
    }
   ],
   "source": [
    "np.mean(c)"
   ]
  },
  {
   "cell_type": "markdown",
   "id": "afc92b2c",
   "metadata": {},
   "source": [
    "Mode operation we can learn in scipy"
   ]
  },
  {
   "cell_type": "markdown",
   "id": "0a93c76d",
   "metadata": {},
   "source": [
    "## Standard deviation"
   ]
  },
  {
   "cell_type": "code",
   "execution_count": 119,
   "id": "c75c51e3",
   "metadata": {},
   "outputs": [],
   "source": [
    "a=[12,1,3,5,6,7,98,45,98]"
   ]
  },
  {
   "cell_type": "code",
   "execution_count": 120,
   "id": "586c4326",
   "metadata": {},
   "outputs": [
    {
     "data": {
      "text/plain": [
       "38.1433294331645"
      ]
     },
     "execution_count": 120,
     "metadata": {},
     "output_type": "execute_result"
    }
   ],
   "source": [
    "np.std(a)"
   ]
  },
  {
   "cell_type": "markdown",
   "id": "b9015bf9",
   "metadata": {},
   "source": [
    "## Variance"
   ]
  },
  {
   "cell_type": "code",
   "execution_count": 124,
   "id": "9ca0ce38",
   "metadata": {},
   "outputs": [
    {
     "data": {
      "text/plain": [
       "[12, 1, 3, 5, 6, 7, 98, 45, 98]"
      ]
     },
     "execution_count": 124,
     "metadata": {},
     "output_type": "execute_result"
    }
   ],
   "source": [
    "a"
   ]
  },
  {
   "cell_type": "code",
   "execution_count": 125,
   "id": "d5159971",
   "metadata": {},
   "outputs": [
    {
     "data": {
      "text/plain": [
       "1454.9135802469134"
      ]
     },
     "execution_count": 125,
     "metadata": {},
     "output_type": "execute_result"
    }
   ],
   "source": [
    "np.var(a)"
   ]
  },
  {
   "cell_type": "markdown",
   "id": "b37ef0cf",
   "metadata": {},
   "source": [
    "## Percentile"
   ]
  },
  {
   "cell_type": "code",
   "execution_count": 126,
   "id": "57fe6e3e",
   "metadata": {},
   "outputs": [],
   "source": [
    "ages = [5,31,43,48,50,41,7,11,15,39,80,82,32,2,8,6,25,36,27,61,31]"
   ]
  },
  {
   "cell_type": "code",
   "execution_count": 128,
   "id": "c9896bc5",
   "metadata": {},
   "outputs": [
    {
     "data": {
      "text/plain": [
       "43.0"
      ]
     },
     "execution_count": 128,
     "metadata": {},
     "output_type": "execute_result"
    }
   ],
   "source": [
    "np.percentile(ages,75)"
   ]
  },
  {
   "cell_type": "markdown",
   "id": "a0b4bba0",
   "metadata": {},
   "source": [
    "43 people younger or equal to age 43"
   ]
  },
  {
   "cell_type": "code",
   "execution_count": 132,
   "id": "26f3d2be",
   "metadata": {},
   "outputs": [
    {
     "data": {
      "text/plain": [
       "61.0"
      ]
     },
     "execution_count": 132,
     "metadata": {},
     "output_type": "execute_result"
    }
   ],
   "source": [
    "np.percentile(ages,90)"
   ]
  },
  {
   "cell_type": "markdown",
   "id": "b8886acf",
   "metadata": {},
   "source": [
    "90 people younger or equal to age 90"
   ]
  }
 ],
 "metadata": {
  "kernelspec": {
   "display_name": "Python 3 (ipykernel)",
   "language": "python",
   "name": "python3"
  },
  "language_info": {
   "codemirror_mode": {
    "name": "ipython",
    "version": 3
   },
   "file_extension": ".py",
   "mimetype": "text/x-python",
   "name": "python",
   "nbconvert_exporter": "python",
   "pygments_lexer": "ipython3",
   "version": "3.8.10"
  }
 },
 "nbformat": 4,
 "nbformat_minor": 5
}
